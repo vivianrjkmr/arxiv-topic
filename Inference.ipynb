{
 "cells": [
  {
   "cell_type": "markdown",
   "metadata": {},
   "source": [
    "## Model inference\n",
    "\n",
    "In this notebook, we will load a previously trained model, explore the learned topics, and predict topics for a paper on arXiv."
   ]
  },
  {
   "cell_type": "code",
   "execution_count": 1,
   "metadata": {},
   "outputs": [],
   "source": [
    "# imports\n",
    "from utils import scrape_arxiv_abstract\n",
    "from model import TopicModel\n",
    "from dataset import ArXivDataset\n",
    "from gensim.models import LdaModel\n",
    "from pprint import pprint"
   ]
  },
  {
   "cell_type": "markdown",
   "metadata": {},
   "source": [
    "### Build topic model\n",
    "\n",
    "To build a `TopicModel` object, we need to pass in as arguments the dataset used to create the model (to process new instances) and the model itself (to predict topics for the new instances)."
   ]
  },
  {
   "cell_type": "code",
   "execution_count": 2,
   "metadata": {},
   "outputs": [],
   "source": [
    "# create topic model\n",
    "model_path = \"./models/lda_n12_p5_r929_c50.2\"\n",
    "dataset_path = \"./data/dataset.obj\"\n",
    "model = TopicModel(model_path, dataset_path)"
   ]
  },
  {
   "cell_type": "markdown",
   "metadata": {},
   "source": [
    "### Investigate topics\n",
    "\n",
    "Next, let us explore the different topics learned by the model so that we can assign understandable topic names to each cluster."
   ]
  },
  {
   "cell_type": "code",
   "execution_count": 3,
   "metadata": {},
   "outputs": [
    {
     "name": "stdout",
     "output_type": "stream",
     "text": [
      "[(0,\n",
      "  '0.046*\"model\" + 0.027*\"task\" + 0.025*\"domain\" + 0.022*\"representation\" + '\n",
      "  '0.021*\"text\" + 0.020*\"knowledge\" + 0.020*\"language\" + 0.017*\"information\" + '\n",
      "  '0.016*\"semantic\" + 0.013*\"query\"'),\n",
      " (1,\n",
      "  '0.076*\"model\" + 0.025*\"distribution\" + 0.020*\"method\" + 0.019*\"datum\" + '\n",
      "  '0.013*\"inference\" + 0.013*\"test\" + 0.013*\"bayesian\" + 0.012*\"variable\" + '\n",
      "  '0.011*\"approach\" + 0.010*\"parameter\"'),\n",
      " (2,\n",
      "  '0.015*\"theory\" + 0.013*\"distribution\" + 0.012*\"property\" + 0.011*\"measure\" '\n",
      "  '+ 0.011*\"information\" + 0.010*\"rule\" + 0.010*\"class\" + 0.010*\"probability\" '\n",
      "  '+ 0.010*\"function\" + 0.009*\"problem\"'),\n",
      " (3,\n",
      "  '0.065*\"image\" + 0.025*\"method\" + 0.018*\"object\" + 0.017*\"segmentation\" + '\n",
      "  '0.015*\"detection\" + 0.015*\"video\" + 0.011*\"dataset\" + 0.010*\"feature\" + '\n",
      "  '0.009*\"approach\" + 0.008*\"multi\"'),\n",
      " (4,\n",
      "  '0.042*\"user\" + 0.028*\"group\" + 0.025*\"item\" + 0.021*\"mechanism\" + '\n",
      "  '0.018*\"preference\" + 0.018*\"design\" + 0.017*\"social\" + 0.017*\"product\" + '\n",
      "  '0.014*\"market\" + 0.012*\"optimal\"'),\n",
      " (5,\n",
      "  '0.055*\"algorithm\" + 0.035*\"problem\" + 0.025*\"optimization\" + 0.024*\"graph\" '\n",
      "  '+ 0.023*\"method\" + 0.013*\"search\" + 0.011*\"gradient\" + 0.011*\"solution\" + '\n",
      "  '0.009*\"node\" + 0.009*\"efficient\"'),\n",
      " (6,\n",
      "  '0.094*\"network\" + 0.047*\"neural\" + 0.042*\"deep\" + 0.037*\"model\" + '\n",
      "  '0.022*\"training\" + 0.017*\"learning\" + 0.016*\"architecture\" + '\n",
      "  '0.015*\"adversarial\" + 0.014*\"performance\" + 0.013*\"task\"'),\n",
      " (7,\n",
      "  '0.099*\"time\" + 0.040*\"dynamic\" + 0.035*\"series\" + 0.034*\"process\" + '\n",
      "  '0.029*\"sequence\" + 0.028*\"temporal\" + 0.025*\"event\" + 0.020*\"state\" + '\n",
      "  '0.016*\"spatial\" + 0.014*\"change\"'),\n",
      " (8,\n",
      "  '0.049*\"datum\" + 0.029*\"method\" + 0.024*\"learning\" + 0.023*\"classification\" '\n",
      "  '+ 0.018*\"dataset\" + 0.018*\"feature\" + 0.017*\"data\" + 0.013*\"class\" + '\n",
      "  '0.013*\"label\" + 0.013*\"performance\"'),\n",
      " (9,\n",
      "  '0.023*\"function\" + 0.020*\"estimator\" + 0.014*\"matrix\" + 0.013*\"linear\" + '\n",
      "  '0.013*\"estimation\" + 0.012*\"dimensional\" + 0.012*\"error\" + 0.011*\"rate\" + '\n",
      "  '0.011*\"regression\" + 0.011*\"sample\"'),\n",
      " (10,\n",
      "  '0.045*\"agent\" + 0.030*\"policy\" + 0.024*\"learning\" + 0.024*\"reinforcement\" + '\n",
      "  '0.021*\"game\" + 0.020*\"action\" + 0.018*\"control\" + 0.017*\"environment\" + '\n",
      "  '0.015*\"state\" + 0.014*\"task\"'),\n",
      " (11,\n",
      "  '0.035*\"system\" + 0.013*\"machine\" + 0.013*\"model\" + 0.011*\"human\" + '\n",
      "  '0.010*\"paper\" + 0.010*\"application\" + 0.010*\"research\" + 0.010*\"user\" + '\n",
      "  '0.009*\"learning\" + 0.009*\"datum\"')]\n"
     ]
    }
   ],
   "source": [
    "# print topics\n",
    "pprint(model.topics)"
   ]
  },
  {
   "cell_type": "markdown",
   "metadata": {},
   "source": [
    "We can see that there are some clusters that seem to refer to specific topics in machine learning. One of them is topic 7, which seems to direcly relate to sequential and time-series data. Another example is topic 10, which seems to be related to reinforcement learning.\n",
    "\n",
    "To make it easier to refer to these topic clusters, we will assign (tentative) names to each of them. Note that these names are subject to interpretation and are only assigned to help \"summarize\" each cluster."
   ]
  },
  {
   "cell_type": "code",
   "execution_count": 4,
   "metadata": {},
   "outputs": [
    {
     "name": "stdout",
     "output_type": "stream",
     "text": [
      "[('Natural language processing',\n",
      "  '0.046*\"model\" + 0.027*\"task\" + 0.025*\"domain\" + 0.022*\"representation\" + '\n",
      "  '0.021*\"text\" + 0.020*\"knowledge\" + 0.020*\"language\" + 0.017*\"information\" + '\n",
      "  '0.016*\"semantic\" + 0.013*\"query\"'),\n",
      " ('Probability + Inference',\n",
      "  '0.076*\"model\" + 0.025*\"distribution\" + 0.020*\"method\" + 0.019*\"datum\" + '\n",
      "  '0.013*\"inference\" + 0.013*\"test\" + 0.013*\"bayesian\" + 0.012*\"variable\" + '\n",
      "  '0.011*\"approach\" + 0.010*\"parameter\"'),\n",
      " ('ML-related terms?',\n",
      "  '0.015*\"theory\" + 0.013*\"distribution\" + 0.012*\"property\" + 0.011*\"measure\" '\n",
      "  '+ 0.011*\"information\" + 0.010*\"rule\" + 0.010*\"class\" + 0.010*\"probability\" '\n",
      "  '+ 0.010*\"function\" + 0.009*\"problem\"'),\n",
      " ('Computer vision',\n",
      "  '0.065*\"image\" + 0.025*\"method\" + 0.018*\"object\" + 0.017*\"segmentation\" + '\n",
      "  '0.015*\"detection\" + 0.015*\"video\" + 0.011*\"dataset\" + 0.010*\"feature\" + '\n",
      "  '0.009*\"approach\" + 0.008*\"multi\"'),\n",
      " ('Recommendation',\n",
      "  '0.042*\"user\" + 0.028*\"group\" + 0.025*\"item\" + 0.021*\"mechanism\" + '\n",
      "  '0.018*\"preference\" + 0.018*\"design\" + 0.017*\"social\" + 0.017*\"product\" + '\n",
      "  '0.014*\"market\" + 0.012*\"optimal\"'),\n",
      " ('Algorithms + Optimization',\n",
      "  '0.055*\"algorithm\" + 0.035*\"problem\" + 0.025*\"optimization\" + 0.024*\"graph\" '\n",
      "  '+ 0.023*\"method\" + 0.013*\"search\" + 0.011*\"gradient\" + 0.011*\"solution\" + '\n",
      "  '0.009*\"node\" + 0.009*\"efficient\"'),\n",
      " ('Deep learning',\n",
      "  '0.094*\"network\" + 0.047*\"neural\" + 0.042*\"deep\" + 0.037*\"model\" + '\n",
      "  '0.022*\"training\" + 0.017*\"learning\" + 0.016*\"architecture\" + '\n",
      "  '0.015*\"adversarial\" + 0.014*\"performance\" + 0.013*\"task\"'),\n",
      " ('Sequences + Time series',\n",
      "  '0.099*\"time\" + 0.040*\"dynamic\" + 0.035*\"series\" + 0.034*\"process\" + '\n",
      "  '0.029*\"sequence\" + 0.028*\"temporal\" + 0.025*\"event\" + 0.020*\"state\" + '\n",
      "  '0.016*\"spatial\" + 0.014*\"change\"'),\n",
      " ('ML-related terms?',\n",
      "  '0.049*\"datum\" + 0.029*\"method\" + 0.024*\"learning\" + 0.023*\"classification\" '\n",
      "  '+ 0.018*\"dataset\" + 0.018*\"feature\" + 0.017*\"data\" + 0.013*\"class\" + '\n",
      "  '0.013*\"label\" + 0.013*\"performance\"'),\n",
      " ('Estimation + Linear algebra?',\n",
      "  '0.023*\"function\" + 0.020*\"estimator\" + 0.014*\"matrix\" + 0.013*\"linear\" + '\n",
      "  '0.013*\"estimation\" + 0.012*\"dimensional\" + 0.012*\"error\" + 0.011*\"rate\" + '\n",
      "  '0.011*\"regression\" + 0.011*\"sample\"'),\n",
      " ('Reinforcement learning',\n",
      "  '0.045*\"agent\" + 0.030*\"policy\" + 0.024*\"learning\" + 0.024*\"reinforcement\" + '\n",
      "  '0.021*\"game\" + 0.020*\"action\" + 0.018*\"control\" + 0.017*\"environment\" + '\n",
      "  '0.015*\"state\" + 0.014*\"task\"'),\n",
      " ('Paper-related terms?',\n",
      "  '0.035*\"system\" + 0.013*\"machine\" + 0.013*\"model\" + 0.011*\"human\" + '\n",
      "  '0.010*\"paper\" + 0.010*\"application\" + 0.010*\"research\" + 0.010*\"user\" + '\n",
      "  '0.009*\"learning\" + 0.009*\"datum\"')]\n"
     ]
    }
   ],
   "source": [
    "# set topic names\n",
    "topic_names = [\n",
    "    \"Natural language processing\",\n",
    "    \"Probability + Inference\",\n",
    "    \"ML-related terms?\",\n",
    "    \"Computer vision\",\n",
    "    \"Recommendation\",\n",
    "    \"Algorithms + Optimization\",\n",
    "    \"Deep learning\",\n",
    "    \"Sequences + Time series\",\n",
    "    \"ML-related terms?\",\n",
    "    \"Estimation + Linear algebra?\",\n",
    "    \"Reinforcement learning\",\n",
    "    \"Paper-related terms?\"\n",
    "]\n",
    "\n",
    "model.set_topic_names(topic_names)\n",
    "pprint(model.topics)"
   ]
  },
  {
   "cell_type": "markdown",
   "metadata": {},
   "source": [
    "### Predict topics for a paper\n",
    "\n",
    "Let us see how our model predicts a paper taken directly from arXiv. Using the `scrape_arxiv_abstract()` function, we can extract the title and the abstract of any paper on arXiv given its URL. Once scraped, this title and abstract can be passed into our topic model's `predict()` method.\n",
    "\n",
    "To illustrate, let us scrape the title and abstract from the seminal paper [\"Attention Is All You Need\" (2017)](https://arxiv.org/abs/1706.03762) and see what topics the model detects."
   ]
  },
  {
   "cell_type": "code",
   "execution_count": 5,
   "metadata": {},
   "outputs": [
    {
     "name": "stdout",
     "output_type": "stream",
     "text": [
      "Attention Is All You Need\n",
      "\n",
      "  The dominant sequence transduction models are based on complex recurrent or\n",
      "convolutional neural networks in an encoder-decoder configuration. The best\n",
      "performing models also connect the encoder and decoder through an attention\n",
      "mechanism. We propose a new simple network architecture, the Transformer, based\n",
      "solely on attention mechanisms, dispensing with recurrence and convolutions\n",
      "entirely. Experiments on two machine translation tasks show these models to be\n",
      "superior in quality while being more parallelizable and requiring significantly\n",
      "less time to train. Our model achieves 28.4 BLEU on the WMT 2014\n",
      "English-to-German translation task, improving over the existing best results,\n",
      "including ensembles by over 2 BLEU. On the WMT 2014 English-to-French\n",
      "translation task, our model establishes a new single-model state-of-the-art\n",
      "BLEU score of 41.8 after training for 3.5 days on eight GPUs, a small fraction\n",
      "of the training costs of the best models from the literature. We show that the\n",
      "Transformer generalizes well to other tasks by applying it successfully to\n",
      "English constituency parsing both with large and limited training data.\n",
      "\n",
      "    \n"
     ]
    }
   ],
   "source": [
    "# paper: \"Attention Is All You Need\" (Vaswani et al, 2017)\n",
    "paper_url = \"https://arxiv.org/abs/1706.03762\"\n",
    "text = scrape_arxiv_abstract(paper_url)\n",
    "print(text)"
   ]
  },
  {
   "cell_type": "code",
   "execution_count": 6,
   "metadata": {},
   "outputs": [
    {
     "data": {
      "text/plain": [
       "[('Deep learning', 0.7827023),\n",
       " ('Natural language processing', 0.18202062),\n",
       " ('ML-related terms?', 0.022977384)]"
      ]
     },
     "execution_count": 6,
     "metadata": {},
     "output_type": "execute_result"
    }
   ],
   "source": [
    "# get predictions\n",
    "model.predict(text)[:3]"
   ]
  }
 ],
 "metadata": {
  "kernelspec": {
   "display_name": "Python 3",
   "language": "python",
   "name": "python3"
  },
  "language_info": {
   "codemirror_mode": {
    "name": "ipython",
    "version": 3
   },
   "file_extension": ".py",
   "mimetype": "text/x-python",
   "name": "python",
   "nbconvert_exporter": "python",
   "pygments_lexer": "ipython3",
   "version": "3.7.6"
  }
 },
 "nbformat": 4,
 "nbformat_minor": 4
}
