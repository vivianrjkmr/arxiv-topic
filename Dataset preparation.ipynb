{
 "cells": [
  {
   "cell_type": "markdown",
   "metadata": {},
   "source": [
    "## Dataset preparation\n",
    "\n",
    "In this notebook, we will build and pre-process the arXiv paper dataset."
   ]
  },
  {
   "cell_type": "code",
   "execution_count": 1,
   "metadata": {},
   "outputs": [],
   "source": [
    "# imports\n",
    "from dataset import ArXivDataset"
   ]
  },
  {
   "cell_type": "code",
   "execution_count": 2,
   "metadata": {},
   "outputs": [
    {
     "name": "stdout",
     "output_type": "stream",
     "text": [
      " [1/6] Removing LaTex equations...\n",
      " [2/6] Removing newlines and extra spaces...\n",
      " [3/6] Tokenizing documents...\n",
      " [4/6] Removing stopwords...\n",
      " [5/6] Identifying n-gram phrases...\n",
      " [6/6] Lemmatizing...\n",
      " Done.\n",
      "# papers: 162640\n"
     ]
    }
   ],
   "source": [
    "# build and pre-process texts\n",
    "metadata_filepath = \"./data/arxiv-metadata-oai-snapshot.json\"\n",
    "dataset = ArXivDataset.from_metadata(metadata_filepath)\n",
    "print(\"# papers: {n}\".format(n=len(dataset)))"
   ]
  },
  {
   "cell_type": "code",
   "execution_count": 3,
   "metadata": {},
   "outputs": [],
   "source": [
    "# export dataset\n",
    "dataset.save(\"./data/dataset.obj\")"
   ]
  }
 ],
 "metadata": {
  "kernelspec": {
   "display_name": "Python 3",
   "language": "python",
   "name": "python3"
  },
  "language_info": {
   "codemirror_mode": {
    "name": "ipython",
    "version": 3
   },
   "file_extension": ".py",
   "mimetype": "text/x-python",
   "name": "python",
   "nbconvert_exporter": "python",
   "pygments_lexer": "ipython3",
   "version": "3.7.6"
  }
 },
 "nbformat": 4,
 "nbformat_minor": 4
}
